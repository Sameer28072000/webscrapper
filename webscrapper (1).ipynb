{
 "cells": [
  {
   "cell_type": "markdown",
   "id": "6917bfd7-0763-4583-8054-966c8f0a6350",
   "metadata": {},
   "source": [
    "Q1. What is Web Scraping? Why is it Used? Give three areas where Web Scraping is used to get data."
   ]
  },
  {
   "cell_type": "code",
   "execution_count": null,
   "id": "0a00ec27-c888-4449-acfc-643c50e8e7e5",
   "metadata": {},
   "outputs": [],
   "source": [
    "Ans:-To extract the data from the website is known as web scrapping.\n",
    " web scraping extracts underlying HTML code and with it data stored in a database.\n",
    "i.Analysize the data.\n",
    "ii.from e-commerce.\n",
    "iii.extract contact."
   ]
  },
  {
   "cell_type": "markdown",
   "id": "1be84572-4aef-47ad-b5c9-91b742d63cc7",
   "metadata": {},
   "source": [
    "Q2. What are the different methods used for Web Scraping?"
   ]
  },
  {
   "cell_type": "code",
   "execution_count": null,
   "id": "ea9de68f-1ffe-4d8b-bb66-26317000c47b",
   "metadata": {},
   "outputs": [],
   "source": [
    "Ans:-\n",
    "i.Beautiful Soap\n",
    "ii.urllib"
   ]
  },
  {
   "cell_type": "markdown",
   "id": "c9112389-3654-4497-b523-a1481369b16b",
   "metadata": {},
   "source": [
    "Q3. What is Beautiful Soup? Why is it used?"
   ]
  },
  {
   "cell_type": "code",
   "execution_count": null,
   "id": "2fa7320c-fa31-462d-a1e7-13e9293899ad",
   "metadata": {},
   "outputs": [],
   "source": [
    "Ans:-Beautiful soap is a python package for parsing HTML document. \n",
    "To read the data by human that is why we used beautiful soap."
   ]
  },
  {
   "cell_type": "markdown",
   "id": "57b18a94-5416-4929-b551-04835a925e22",
   "metadata": {},
   "source": [
    "Q4. Why is flask used in this Web Scraping project?"
   ]
  },
  {
   "cell_type": "code",
   "execution_count": null,
   "id": "cc255aee-58eb-45f4-a083-9f8125d2cd8a",
   "metadata": {},
   "outputs": [],
   "source": [
    "Ans:-Flask is a easy framework as compare to other for build websites.\n",
    "This is parse to our collected data & display in the form HTML File."
   ]
  },
  {
   "cell_type": "markdown",
   "id": "c50c351f-2848-4eb7-b3b8-fbc54d3f1301",
   "metadata": {},
   "source": [
    "Q5. Write the names of AWS services used in this project. Also, explain the use of each service."
   ]
  },
  {
   "cell_type": "code",
   "execution_count": null,
   "id": "006671e4-1b8a-4835-81b1-ff6c55a6fc56",
   "metadata": {},
   "outputs": [],
   "source": [
    "Ans:-\n",
    "i.storage\n",
    "ii.Database"
   ]
  }
 ],
 "metadata": {
  "kernelspec": {
   "display_name": "Python 3 (ipykernel)",
   "language": "python",
   "name": "python3"
  },
  "language_info": {
   "codemirror_mode": {
    "name": "ipython",
    "version": 3
   },
   "file_extension": ".py",
   "mimetype": "text/x-python",
   "name": "python",
   "nbconvert_exporter": "python",
   "pygments_lexer": "ipython3",
   "version": "3.10.8"
  }
 },
 "nbformat": 4,
 "nbformat_minor": 5
}
